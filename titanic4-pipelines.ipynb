{
 "cells": [
  {
   "cell_type": "code",
   "execution_count": 1,
   "id": "711d19ee",
   "metadata": {
    "_cell_guid": "b1076dfc-b9ad-4769-8c92-a6c4dae69d19",
    "_uuid": "8f2839f25d086af736a60e9eeb907d3b93b6e0e5",
    "execution": {
     "iopub.execute_input": "2021-12-05T01:47:15.671765Z",
     "iopub.status.busy": "2021-12-05T01:47:15.669936Z",
     "iopub.status.idle": "2021-12-05T01:47:15.691084Z",
     "shell.execute_reply": "2021-12-05T01:47:15.692046Z",
     "shell.execute_reply.started": "2021-12-05T01:16:03.690714Z"
    },
    "papermill": {
     "duration": 0.055076,
     "end_time": "2021-12-05T01:47:15.692458",
     "exception": false,
     "start_time": "2021-12-05T01:47:15.637382",
     "status": "completed"
    },
    "tags": []
   },
   "outputs": [
    {
     "name": "stdout",
     "output_type": "stream",
     "text": [
      "/kaggle/input/titanic/train.csv\n",
      "/kaggle/input/titanic/test.csv\n",
      "/kaggle/input/titanic/gender_submission.csv\n"
     ]
    }
   ],
   "source": [
    "# This Python 3 environment comes with many helpful analytics libraries installed\n",
    "# It is defined by the kaggle/python Docker image: https://github.com/kaggle/docker-python\n",
    "# For example, here's several helpful packages to load\n",
    "\n",
    "import numpy as np # linear algebra\n",
    "import pandas as pd # data processing, CSV file I/O (e.g. pd.read_csv)\n",
    "import warnings\n",
    "warnings.filterwarnings(\"ignore\")\n",
    "import matplotlib.pyplot as plt\n",
    "plt.style.use('ggplot')\n",
    "\n",
    "# Input data files are available in the read-only \"../input/\" directory\n",
    "# For example, running this (by clicking run or pressing Shift+Enter) will list all files under the input directory\n",
    "\n",
    "import os\n",
    "for dirname, _, filenames in os.walk('/kaggle/input'):\n",
    "    for filename in filenames:\n",
    "        print(os.path.join(dirname, filename))\n",
    "\n",
    "# You can write up to 20GB to the current directory (/kaggle/working/) that gets preserved as output when you create a version using \"Save & Run All\" \n",
    "# You can also write temporary files to /kaggle/temp/, but they won't be saved outside of the current session"
   ]
  },
  {
   "cell_type": "code",
   "execution_count": 2,
   "id": "e31b1f72",
   "metadata": {
    "execution": {
     "iopub.execute_input": "2021-12-05T01:47:15.751941Z",
     "iopub.status.busy": "2021-12-05T01:47:15.751329Z",
     "iopub.status.idle": "2021-12-05T01:47:15.790871Z",
     "shell.execute_reply": "2021-12-05T01:47:15.791392Z",
     "shell.execute_reply.started": "2021-12-05T01:16:06.672824Z"
    },
    "papermill": {
     "duration": 0.070352,
     "end_time": "2021-12-05T01:47:15.791595",
     "exception": false,
     "start_time": "2021-12-05T01:47:15.721243",
     "status": "completed"
    },
    "tags": []
   },
   "outputs": [],
   "source": [
    "train = pd.read_csv('/kaggle/input/titanic/train.csv')\n",
    "test = pd.read_csv('/kaggle/input/titanic/test.csv')\n",
    "data = pd.concat([train, test])"
   ]
  },
  {
   "cell_type": "markdown",
   "id": "bb5bace4",
   "metadata": {
    "papermill": {
     "duration": 0.022565,
     "end_time": "2021-12-05T01:47:15.837512",
     "exception": false,
     "start_time": "2021-12-05T01:47:15.814947",
     "status": "completed"
    },
    "tags": []
   },
   "source": [
    "## Initial Exploration of data set"
   ]
  },
  {
   "cell_type": "code",
   "execution_count": 3,
   "id": "62c3bf3a",
   "metadata": {
    "execution": {
     "iopub.execute_input": "2021-12-05T01:47:15.886237Z",
     "iopub.status.busy": "2021-12-05T01:47:15.885632Z",
     "iopub.status.idle": "2021-12-05T01:47:15.906214Z",
     "shell.execute_reply": "2021-12-05T01:47:15.906761Z",
     "shell.execute_reply.started": "2021-12-05T01:16:17.632463Z"
    },
    "papermill": {
     "duration": 0.046519,
     "end_time": "2021-12-05T01:47:15.906935",
     "exception": false,
     "start_time": "2021-12-05T01:47:15.860416",
     "status": "completed"
    },
    "tags": []
   },
   "outputs": [
    {
     "name": "stdout",
     "output_type": "stream",
     "text": [
      "<class 'pandas.core.frame.DataFrame'>\n",
      "Int64Index: 1309 entries, 0 to 417\n",
      "Data columns (total 12 columns):\n",
      " #   Column       Non-Null Count  Dtype  \n",
      "---  ------       --------------  -----  \n",
      " 0   PassengerId  1309 non-null   int64  \n",
      " 1   Survived     891 non-null    float64\n",
      " 2   Pclass       1309 non-null   int64  \n",
      " 3   Name         1309 non-null   object \n",
      " 4   Sex          1309 non-null   object \n",
      " 5   Age          1046 non-null   float64\n",
      " 6   SibSp        1309 non-null   int64  \n",
      " 7   Parch        1309 non-null   int64  \n",
      " 8   Ticket       1309 non-null   object \n",
      " 9   Fare         1308 non-null   float64\n",
      " 10  Cabin        295 non-null    object \n",
      " 11  Embarked     1307 non-null   object \n",
      "dtypes: float64(3), int64(4), object(5)\n",
      "memory usage: 132.9+ KB\n"
     ]
    }
   ],
   "source": [
    "data.info()"
   ]
  },
  {
   "cell_type": "code",
   "execution_count": 4,
   "id": "44fe0b1d",
   "metadata": {
    "execution": {
     "iopub.execute_input": "2021-12-05T01:47:15.957916Z",
     "iopub.status.busy": "2021-12-05T01:47:15.957332Z",
     "iopub.status.idle": "2021-12-05T01:47:15.968528Z",
     "shell.execute_reply": "2021-12-05T01:47:15.969080Z",
     "shell.execute_reply.started": "2021-12-05T01:16:58.806716Z"
    },
    "papermill": {
     "duration": 0.038765,
     "end_time": "2021-12-05T01:47:15.969247",
     "exception": false,
     "start_time": "2021-12-05T01:47:15.930482",
     "status": "completed"
    },
    "tags": []
   },
   "outputs": [
    {
     "data": {
      "text/plain": [
       "PassengerId       0\n",
       "Survived        418\n",
       "Pclass            0\n",
       "Name              0\n",
       "Sex               0\n",
       "Age             263\n",
       "SibSp             0\n",
       "Parch             0\n",
       "Ticket            0\n",
       "Fare              1\n",
       "Cabin          1014\n",
       "Embarked          2\n",
       "dtype: int64"
      ]
     },
     "execution_count": 4,
     "metadata": {},
     "output_type": "execute_result"
    }
   ],
   "source": [
    "# missing values from each columns\n",
    "data.isna().sum()"
   ]
  },
  {
   "cell_type": "code",
   "execution_count": 5,
   "id": "d0ceb9bf",
   "metadata": {
    "execution": {
     "iopub.execute_input": "2021-12-05T01:47:16.021484Z",
     "iopub.status.busy": "2021-12-05T01:47:16.020502Z",
     "iopub.status.idle": "2021-12-05T01:47:16.056107Z",
     "shell.execute_reply": "2021-12-05T01:47:16.055543Z",
     "shell.execute_reply.started": "2021-12-05T01:27:40.357085Z"
    },
    "papermill": {
     "duration": 0.062963,
     "end_time": "2021-12-05T01:47:16.056246",
     "exception": false,
     "start_time": "2021-12-05T01:47:15.993283",
     "status": "completed"
    },
    "tags": []
   },
   "outputs": [
    {
     "data": {
      "text/html": [
       "<div>\n",
       "<style scoped>\n",
       "    .dataframe tbody tr th:only-of-type {\n",
       "        vertical-align: middle;\n",
       "    }\n",
       "\n",
       "    .dataframe tbody tr th {\n",
       "        vertical-align: top;\n",
       "    }\n",
       "\n",
       "    .dataframe thead th {\n",
       "        text-align: right;\n",
       "    }\n",
       "</style>\n",
       "<table border=\"1\" class=\"dataframe\">\n",
       "  <thead>\n",
       "    <tr style=\"text-align: right;\">\n",
       "      <th></th>\n",
       "      <th>PassengerId</th>\n",
       "      <th>Survived</th>\n",
       "      <th>Pclass</th>\n",
       "      <th>Age</th>\n",
       "      <th>SibSp</th>\n",
       "      <th>Parch</th>\n",
       "      <th>Fare</th>\n",
       "    </tr>\n",
       "  </thead>\n",
       "  <tbody>\n",
       "    <tr>\n",
       "      <th>count</th>\n",
       "      <td>1309.0</td>\n",
       "      <td>891.000000</td>\n",
       "      <td>1309.000000</td>\n",
       "      <td>1046.000000</td>\n",
       "      <td>1309.000000</td>\n",
       "      <td>1309.000000</td>\n",
       "      <td>1308.000000</td>\n",
       "    </tr>\n",
       "    <tr>\n",
       "      <th>mean</th>\n",
       "      <td>655.0</td>\n",
       "      <td>0.383838</td>\n",
       "      <td>2.294882</td>\n",
       "      <td>29.881138</td>\n",
       "      <td>0.498854</td>\n",
       "      <td>0.385027</td>\n",
       "      <td>33.295479</td>\n",
       "    </tr>\n",
       "    <tr>\n",
       "      <th>min</th>\n",
       "      <td>1.0</td>\n",
       "      <td>0.000000</td>\n",
       "      <td>1.000000</td>\n",
       "      <td>0.170000</td>\n",
       "      <td>0.000000</td>\n",
       "      <td>0.000000</td>\n",
       "      <td>0.000000</td>\n",
       "    </tr>\n",
       "    <tr>\n",
       "      <th>max</th>\n",
       "      <td>1309.0</td>\n",
       "      <td>1.000000</td>\n",
       "      <td>3.000000</td>\n",
       "      <td>80.000000</td>\n",
       "      <td>8.000000</td>\n",
       "      <td>9.000000</td>\n",
       "      <td>512.329200</td>\n",
       "    </tr>\n",
       "  </tbody>\n",
       "</table>\n",
       "</div>"
      ],
      "text/plain": [
       "       PassengerId    Survived       Pclass          Age        SibSp  \\\n",
       "count       1309.0  891.000000  1309.000000  1046.000000  1309.000000   \n",
       "mean         655.0    0.383838     2.294882    29.881138     0.498854   \n",
       "min            1.0    0.000000     1.000000     0.170000     0.000000   \n",
       "max         1309.0    1.000000     3.000000    80.000000     8.000000   \n",
       "\n",
       "             Parch         Fare  \n",
       "count  1309.000000  1308.000000  \n",
       "mean      0.385027    33.295479  \n",
       "min       0.000000     0.000000  \n",
       "max       9.000000   512.329200  "
      ]
     },
     "execution_count": 5,
     "metadata": {},
     "output_type": "execute_result"
    }
   ],
   "source": [
    "data.describe().loc[['count', 'mean', 'min', 'max']]"
   ]
  },
  {
   "cell_type": "code",
   "execution_count": 6,
   "id": "3179300d",
   "metadata": {
    "execution": {
     "iopub.execute_input": "2021-12-05T01:47:16.121568Z",
     "iopub.status.busy": "2021-12-05T01:47:16.120861Z",
     "iopub.status.idle": "2021-12-05T01:47:16.335598Z",
     "shell.execute_reply": "2021-12-05T01:47:16.334619Z",
     "shell.execute_reply.started": "2021-12-05T01:32:02.194298Z"
    },
    "papermill": {
     "duration": 0.255134,
     "end_time": "2021-12-05T01:47:16.335749",
     "exception": false,
     "start_time": "2021-12-05T01:47:16.080615",
     "status": "completed"
    },
    "tags": []
   },
   "outputs": [
    {
     "data": {
      "image/png": "[encoded data removed]",
      "text/plain": [
       "<Figure size 432x288 with 1 Axes>"
      ]
     },
     "metadata": {},
     "output_type": "display_data"
    }
   ],
   "source": [
    "pd.pivot_table(data, values='PassengerId', index='Survived', aggfunc='count').plot(kind='bar', legend = False, title = 'Number of survived or died passenages')\n",
    "plt.show()"
   ]
  },
  {
   "cell_type": "code",
   "execution_count": 7,
   "id": "21d19704",
   "metadata": {
    "execution": {
     "iopub.execute_input": "2021-12-05T01:47:16.390779Z",
     "iopub.status.busy": "2021-12-05T01:47:16.390007Z",
     "iopub.status.idle": "2021-12-05T01:47:16.713476Z",
     "shell.execute_reply": "2021-12-05T01:47:16.713990Z",
     "shell.execute_reply.started": "2021-12-05T01:37:21.828348Z"
    },
    "papermill": {
     "duration": 0.353029,
     "end_time": "2021-12-05T01:47:16.714196",
     "exception": false,
     "start_time": "2021-12-05T01:47:16.361167",
     "status": "completed"
    },
    "tags": []
   },
   "outputs": [
    {
     "data": {
      "image/png": "[encoded data removed]",
      "text/plain": [
       "<Figure size 432x288 with 1 Axes>"
      ]
     },
     "metadata": {},
     "output_type": "display_data"
    }
   ],
   "source": [
    "data['Age'].plot(kind='hist', title = 'Distribution of passengers age')\n",
    "plt.show()"
   ]
  },
  {
   "cell_type": "code",
   "execution_count": 8,
   "id": "5bc5bb11",
   "metadata": {
    "execution": {
     "iopub.execute_input": "2021-12-05T01:47:16.770272Z",
     "iopub.status.busy": "2021-12-05T01:47:16.769564Z",
     "iopub.status.idle": "2021-12-05T01:47:16.948813Z",
     "shell.execute_reply": "2021-12-05T01:47:16.947902Z",
     "shell.execute_reply.started": "2021-12-05T01:37:52.736833Z"
    },
    "papermill": {
     "duration": 0.207853,
     "end_time": "2021-12-05T01:47:16.948967",
     "exception": false,
     "start_time": "2021-12-05T01:47:16.741114",
     "status": "completed"
    },
    "tags": []
   },
   "outputs": [
    {
     "data": {
      "image/png": "[encoded data removed]",
      "text/plain": [
       "<Figure size 432x288 with 1 Axes>"
      ]
     },
     "metadata": {},
     "output_type": "display_data"
    }
   ],
   "source": [
    "data['SibSp'].plot(kind='hist', title='Distibution of # of siblings / spouses')\n",
    "plt.show()"
   ]
  },
  {
   "cell_type": "code",
   "execution_count": 9,
   "id": "7bea2ac5",
   "metadata": {
    "execution": {
     "iopub.execute_input": "2021-12-05T01:47:17.006397Z",
     "iopub.status.busy": "2021-12-05T01:47:17.005402Z",
     "iopub.status.idle": "2021-12-05T01:47:17.163293Z",
     "shell.execute_reply": "2021-12-05T01:47:17.162664Z",
     "shell.execute_reply.started": "2021-12-05T01:39:49.938695Z"
    },
    "papermill": {
     "duration": 0.187506,
     "end_time": "2021-12-05T01:47:17.163441",
     "exception": false,
     "start_time": "2021-12-05T01:47:16.975935",
     "status": "completed"
    },
    "tags": []
   },
   "outputs": [
    {
     "data": {
      "image/png": "[encoded data removed]",
      "text/plain": [
       "<Figure size 432x288 with 1 Axes>"
      ]
     },
     "metadata": {},
     "output_type": "display_data"
    }
   ],
   "source": [
    "data['Parch'].plot(kind='hist', title='# of parents / children')\n",
    "plt.show()"
   ]
  },
  {
   "cell_type": "code",
   "execution_count": 10,
   "id": "7e8e27f1",
   "metadata": {
    "execution": {
     "iopub.execute_input": "2021-12-05T01:47:17.226952Z",
     "iopub.status.busy": "2021-12-05T01:47:17.226274Z",
     "iopub.status.idle": "2021-12-05T01:47:17.427703Z",
     "shell.execute_reply": "2021-12-05T01:47:17.427051Z",
     "shell.execute_reply.started": "2021-12-05T01:40:32.768442Z"
    },
    "papermill": {
     "duration": 0.236695,
     "end_time": "2021-12-05T01:47:17.427842",
     "exception": false,
     "start_time": "2021-12-05T01:47:17.191147",
     "status": "completed"
    },
    "tags": []
   },
   "outputs": [
    {
     "data": {
      "image/png": "[encoded data removed]",
      "text/plain": [
       "<Figure size 432x288 with 1 Axes>"
      ]
     },
     "metadata": {},
     "output_type": "display_data"
    }
   ],
   "source": [
    "pd.pivot_table(data, values='PassengerId', index='Survived', columns='Sex', aggfunc='count').plot(kind='bar', title='Sex vs. Survived')\n",
    "plt.show()"
   ]
  },
  {
   "cell_type": "code",
   "execution_count": 11,
   "id": "25b928ce",
   "metadata": {
    "execution": {
     "iopub.execute_input": "2021-12-05T01:47:17.487897Z",
     "iopub.status.busy": "2021-12-05T01:47:17.487287Z",
     "iopub.status.idle": "2021-12-05T01:47:17.708279Z",
     "shell.execute_reply": "2021-12-05T01:47:17.707709Z",
     "shell.execute_reply.started": "2021-12-05T01:40:37.835064Z"
    },
    "papermill": {
     "duration": 0.252284,
     "end_time": "2021-12-05T01:47:17.708445",
     "exception": false,
     "start_time": "2021-12-05T01:47:17.456161",
     "status": "completed"
    },
    "tags": []
   },
   "outputs": [
    {
     "data": {
      "image/png": "[encoded data removed]",
      "text/plain": [
       "<Figure size 432x288 with 1 Axes>"
      ]
     },
     "metadata": {},
     "output_type": "display_data"
    }
   ],
   "source": [
    "pd.pivot_table(data, values='PassengerId', index='Survived', columns='Pclass', aggfunc='count').plot(kind='bar', title='Pclass vs. Survived')\n",
    "plt.show()"
   ]
  },
  {
   "cell_type": "code",
   "execution_count": 12,
   "id": "6c40ca8c",
   "metadata": {
    "execution": {
     "iopub.execute_input": "2021-12-05T01:47:17.770746Z",
     "iopub.status.busy": "2021-12-05T01:47:17.770157Z",
     "iopub.status.idle": "2021-12-05T01:47:17.776946Z",
     "shell.execute_reply": "2021-12-05T01:47:17.777590Z",
     "shell.execute_reply.started": "2021-12-05T01:41:22.954521Z"
    },
    "papermill": {
     "duration": 0.038815,
     "end_time": "2021-12-05T01:47:17.777765",
     "exception": false,
     "start_time": "2021-12-05T01:47:17.738950",
     "status": "completed"
    },
    "tags": []
   },
   "outputs": [],
   "source": [
    "data['Age_bins'] = pd.cut(data['Age'], bins = [0, 11, 24, 50, 78, 100], labels = ['children', 'youth', 'youth_adults', 'mid_age_adults', 'elderly'])"
   ]
  },
  {
   "cell_type": "code",
   "execution_count": 13,
   "id": "edc6083e",
   "metadata": {
    "execution": {
     "iopub.execute_input": "2021-12-05T01:47:17.843434Z",
     "iopub.status.busy": "2021-12-05T01:47:17.842786Z",
     "iopub.status.idle": "2021-12-05T01:47:18.102457Z",
     "shell.execute_reply": "2021-12-05T01:47:18.101866Z",
     "shell.execute_reply.started": "2021-12-05T01:41:23.835909Z"
    },
    "papermill": {
     "duration": 0.294382,
     "end_time": "2021-12-05T01:47:18.102600",
     "exception": false,
     "start_time": "2021-12-05T01:47:17.808218",
     "status": "completed"
    },
    "tags": []
   },
   "outputs": [
    {
     "data": {
      "text/plain": [
       "<AxesSubplot:title={'center':'Age vs. Survived'}, xlabel='Survived'>"
      ]
     },
     "execution_count": 13,
     "metadata": {},
     "output_type": "execute_result"
    },
    {
     "data": {
      "image/png": "[encoded data removed]",
      "text/plain": [
       "<Figure size 432x288 with 1 Axes>"
      ]
     },
     "metadata": {},
     "output_type": "display_data"
    }
   ],
   "source": [
    "pd.pivot_table(data, index='Survived', columns='Age_bins', values='PassengerId', aggfunc='count').plot(kind='bar', title='Age vs. Survived')"
   ]
  },
  {
   "cell_type": "markdown",
   "id": "df4b050c",
   "metadata": {
    "execution": {
     "iopub.execute_input": "2021-12-05T01:42:06.583248Z",
     "iopub.status.busy": "2021-12-05T01:42:06.582249Z",
     "iopub.status.idle": "2021-12-05T01:42:06.587058Z",
     "shell.execute_reply": "2021-12-05T01:42:06.586169Z",
     "shell.execute_reply.started": "2021-12-05T01:42:06.583181Z"
    },
    "papermill": {
     "duration": 0.029891,
     "end_time": "2021-12-05T01:47:18.162815",
     "exception": false,
     "start_time": "2021-12-05T01:47:18.132924",
     "status": "completed"
    },
    "tags": []
   },
   "source": [
    "# Split the train and test set"
   ]
  },
  {
   "cell_type": "code",
   "execution_count": 14,
   "id": "82aa58c3",
   "metadata": {
    "execution": {
     "iopub.execute_input": "2021-12-05T01:47:18.233682Z",
     "iopub.status.busy": "2021-12-05T01:47:18.231604Z",
     "iopub.status.idle": "2021-12-05T01:47:18.236092Z",
     "shell.execute_reply": "2021-12-05T01:47:18.236560Z",
     "shell.execute_reply.started": "2021-12-05T01:44:11.706817Z"
    },
    "papermill": {
     "duration": 0.043584,
     "end_time": "2021-12-05T01:47:18.236732",
     "exception": false,
     "start_time": "2021-12-05T01:47:18.193148",
     "status": "completed"
    },
    "tags": []
   },
   "outputs": [],
   "source": [
    "X_train = data.loc[data['Survived'].notna()].drop('Survived', axis=1)\n",
    "y_train = data.loc[data['Survived'].notna()]['Survived']\n",
    "X_test = data.loc[data['Survived'].isna()].drop('Survived', axis=1)"
   ]
  },
  {
   "cell_type": "markdown",
   "id": "86d6755d",
   "metadata": {
    "papermill": {
     "duration": 0.029868,
     "end_time": "2021-12-05T01:47:18.296642",
     "exception": false,
     "start_time": "2021-12-05T01:47:18.266774",
     "status": "completed"
    },
    "tags": []
   },
   "source": [
    "# Feature Enginnering\n",
    "1. Extract titles of names and group them properly \n",
    "2. One hot encoding the categorical features (title, embarked, sex)"
   ]
  },
  {
   "cell_type": "code",
   "execution_count": 15,
   "id": "0a4abd7e",
   "metadata": {
    "execution": {
     "iopub.execute_input": "2021-12-05T01:47:18.360785Z",
     "iopub.status.busy": "2021-12-05T01:47:18.360139Z",
     "iopub.status.idle": "2021-12-05T01:47:19.225649Z",
     "shell.execute_reply": "2021-12-05T01:47:19.224470Z",
     "shell.execute_reply.started": "2021-12-05T01:44:14.231715Z"
    },
    "papermill": {
     "duration": 0.898472,
     "end_time": "2021-12-05T01:47:19.225801",
     "exception": false,
     "start_time": "2021-12-05T01:47:18.327329",
     "status": "completed"
    },
    "tags": []
   },
   "outputs": [],
   "source": [
    "from sklearn.base import BaseEstimator, TransformerMixin\n",
    "from sklearn.preprocessing import StandardScaler, MinMaxScaler\n",
    "\n",
    "class Feature_Enginnering(BaseEstimator, TransformerMixin):\n",
    "    def __init__(self, feature = 'Name', features_selected = ['Pclass', 'Sex', 'Age', 'SibSp', 'Parch', 'Fare', 'Embarked', 'Title']):\n",
    "        self.feature = feature\n",
    "        self.features_selected = features_selected\n",
    "    \n",
    "    def fit(self, X, y = None):\n",
    "        return self\n",
    "    \n",
    "    def transform(self, X, y = None):\n",
    "        X_ = X.copy()\n",
    "        \n",
    "        # extract title from name\n",
    "        X_['Title'] = X_[self.feature].apply(lambda x: x.split(',')[1].split('.')[0].strip())\n",
    "        X_.loc[X_['Title'] == 'Mlle', 'Title'] = 'Miss'\n",
    "        X_.loc[X_['Title'] == 'Mme', 'Title'] = 'Mrs'\n",
    "        X_.loc[X_['Title'] == 'Dona', 'Title'] = 'Mrs'\n",
    "        X_.loc[X_['Title'] == 'Lady', 'Title'] = 'Ms'\n",
    "        X_.loc[X_['Title'].isin(['Don', 'Sir']), 'Title'] = 'Mr'\n",
    "        X_.loc[X_['Title'].isin(['Major', 'Col', 'Capt']), 'Title'] = 'Mr'\n",
    "        X_.loc[X_['Title'].isin(['the Countess', 'Jonkheer']), 'Title'] = 'Mr'\n",
    "        X_['Fare'].fillna(X_['Fare'].median())\n",
    "        # One-Hot-Encoder\n",
    "        X_ = pd.get_dummies(X_[self.features_selected])\n",
    "        sc = MinMaxScaler()\n",
    "        X_ = sc.fit_transform(X_)\n",
    "        return X_"
   ]
  },
  {
   "cell_type": "code",
   "execution_count": 16,
   "id": "375c0461",
   "metadata": {
    "execution": {
     "iopub.execute_input": "2021-12-05T01:47:19.292784Z",
     "iopub.status.busy": "2021-12-05T01:47:19.292118Z",
     "iopub.status.idle": "2021-12-05T01:47:19.294830Z",
     "shell.execute_reply": "2021-12-05T01:47:19.295370Z",
     "shell.execute_reply.started": "2021-12-05T01:44:15.119102Z"
    },
    "papermill": {
     "duration": 0.039241,
     "end_time": "2021-12-05T01:47:19.295553",
     "exception": false,
     "start_time": "2021-12-05T01:47:19.256312",
     "status": "completed"
    },
    "tags": []
   },
   "outputs": [
    {
     "name": "stdout",
     "output_type": "stream",
     "text": [
      "Shape_X_train: (891, 12)\n",
      "Shape_y_train: (891,)\n",
      "Shape_X_test: (418, 12)\n"
     ]
    }
   ],
   "source": [
    "print('Shape_X_train: {}'.format(X_train.shape))\n",
    "print('Shape_y_train: {}'.format(y_train.shape))\n",
    "print('Shape_X_test: {}'.format(X_test.shape))"
   ]
  },
  {
   "cell_type": "code",
   "execution_count": 17,
   "id": "5ff59b4c",
   "metadata": {
    "execution": {
     "iopub.execute_input": "2021-12-05T01:47:19.361928Z",
     "iopub.status.busy": "2021-12-05T01:47:19.360885Z",
     "iopub.status.idle": "2021-12-05T01:47:19.397555Z",
     "shell.execute_reply": "2021-12-05T01:47:19.398089Z",
     "shell.execute_reply.started": "2021-12-05T01:45:41.887003Z"
    },
    "papermill": {
     "duration": 0.072365,
     "end_time": "2021-12-05T01:47:19.398265",
     "exception": false,
     "start_time": "2021-12-05T01:47:19.325900",
     "status": "completed"
    },
    "tags": []
   },
   "outputs": [],
   "source": [
    "# fit_transform train set, and transform test set\n",
    "fe = Feature_Enginnering()\n",
    "X_train = fe.fit_transform(X_train)\n",
    "X_test = fe.transform(X_test)"
   ]
  },
  {
   "cell_type": "markdown",
   "id": "94b2c732",
   "metadata": {
    "papermill": {
     "duration": 0.030209,
     "end_time": "2021-12-05T01:47:19.459326",
     "exception": false,
     "start_time": "2021-12-05T01:47:19.429117",
     "status": "completed"
    },
    "tags": []
   },
   "source": [
    "# Model selection"
   ]
  },
  {
   "cell_type": "code",
   "execution_count": 18,
   "id": "d9f50f58",
   "metadata": {
    "execution": {
     "iopub.execute_input": "2021-12-05T01:47:19.529220Z",
     "iopub.status.busy": "2021-12-05T01:47:19.528509Z",
     "iopub.status.idle": "2021-12-05T01:47:26.239657Z",
     "shell.execute_reply": "2021-12-05T01:47:26.240718Z",
     "shell.execute_reply.started": "2021-12-05T01:45:43.869701Z"
    },
    "papermill": {
     "duration": 6.751279,
     "end_time": "2021-12-05T01:47:26.240930",
     "exception": false,
     "start_time": "2021-12-05T01:47:19.489651",
     "status": "completed"
    },
    "tags": []
   },
   "outputs": [
    {
     "name": "stdout",
     "output_type": "stream",
     "text": [
      "[01:47:23] WARNING: ../src/learner.cc:1115: Starting in XGBoost 1.3.0, the default evaluation metric used with the objective 'binary:logistic' was changed from 'error' to 'logloss'. Explicitly set eval_metric if you'd like to restore the old behavior.\n",
      "[01:47:24] WARNING: ../src/learner.cc:1115: Starting in XGBoost 1.3.0, the default evaluation metric used with the objective 'binary:logistic' was changed from 'error' to 'logloss'. Explicitly set eval_metric if you'd like to restore the old behavior.\n",
      "[01:47:24] WARNING: ../src/learner.cc:1115: Starting in XGBoost 1.3.0, the default evaluation metric used with the objective 'binary:logistic' was changed from 'error' to 'logloss'. Explicitly set eval_metric if you'd like to restore the old behavior.\n",
      "[01:47:25] WARNING: ../src/learner.cc:1115: Starting in XGBoost 1.3.0, the default evaluation metric used with the objective 'binary:logistic' was changed from 'error' to 'logloss'. Explicitly set eval_metric if you'd like to restore the old behavior.\n",
      "[01:47:25] WARNING: ../src/learner.cc:1115: Starting in XGBoost 1.3.0, the default evaluation metric used with the objective 'binary:logistic' was changed from 'error' to 'logloss'. Explicitly set eval_metric if you'd like to restore the old behavior.\n"
     ]
    },
    {
     "data": {
      "text/html": [
       "<div>\n",
       "<style scoped>\n",
       "    .dataframe tbody tr th:only-of-type {\n",
       "        vertical-align: middle;\n",
       "    }\n",
       "\n",
       "    .dataframe tbody tr th {\n",
       "        vertical-align: top;\n",
       "    }\n",
       "\n",
       "    .dataframe thead th {\n",
       "        text-align: right;\n",
       "    }\n",
       "</style>\n",
       "<table border=\"1\" class=\"dataframe\">\n",
       "  <thead>\n",
       "    <tr style=\"text-align: right;\">\n",
       "      <th></th>\n",
       "      <th>Classifer</th>\n",
       "      <th>Accuracy</th>\n",
       "    </tr>\n",
       "  </thead>\n",
       "  <tbody>\n",
       "    <tr>\n",
       "      <th>1</th>\n",
       "      <td>AdaBoostClassifier</td>\n",
       "      <td>0.827217</td>\n",
       "    </tr>\n",
       "    <tr>\n",
       "      <th>2</th>\n",
       "      <td>GradientBoostingClassifier</td>\n",
       "      <td>0.821562</td>\n",
       "    </tr>\n",
       "    <tr>\n",
       "      <th>3</th>\n",
       "      <td>XGBoostClassifer</td>\n",
       "      <td>0.817080</td>\n",
       "    </tr>\n",
       "    <tr>\n",
       "      <th>0</th>\n",
       "      <td>RandomForest</td>\n",
       "      <td>0.802473</td>\n",
       "    </tr>\n",
       "  </tbody>\n",
       "</table>\n",
       "</div>"
      ],
      "text/plain": [
       "                    Classifer  Accuracy\n",
       "1          AdaBoostClassifier  0.827217\n",
       "2  GradientBoostingClassifier  0.821562\n",
       "3            XGBoostClassifer  0.817080\n",
       "0                RandomForest  0.802473"
      ]
     },
     "execution_count": 18,
     "metadata": {},
     "output_type": "execute_result"
    }
   ],
   "source": [
    "from sklearn.model_selection import cross_val_score\n",
    "from sklearn.pipeline import make_pipeline\n",
    "from sklearn.impute import KNNImputer\n",
    "from sklearn.ensemble import GradientBoostingClassifier, AdaBoostClassifier, RandomForestClassifier\n",
    "from xgboost import XGBClassifier\n",
    "\n",
    "classifer_name = ['RandomForest', 'AdaBoostClassifier', 'GradientBoostingClassifier', 'XGBoostClassifer']\n",
    "classifier = {\n",
    "    'RandomForest': RandomForestClassifier(random_state = 1),\n",
    "    'AdaBoostClassifier': AdaBoostClassifier(random_state = 1),\n",
    "    'GradientBoostingClassifier': GradientBoostingClassifier(random_state = 1),\n",
    "    'XGBoostClassifer': XGBClassifier(random_state = 1)\n",
    "}\n",
    "\n",
    "acc = []\n",
    "\n",
    "for name in classifer_name:\n",
    "    pipe = make_pipeline(KNNImputer(n_neighbors=5), classifier[name])\n",
    "    acc.append(cross_val_score(pipe, X_train, y_train, cv=5, scoring='accuracy').mean())\n",
    "\n",
    "pd.DataFrame({'Classifer': classifer_name, 'Accuracy': acc}).sort_values(by='Accuracy', ascending=False)"
   ]
  },
  {
   "cell_type": "markdown",
   "id": "474a4a68",
   "metadata": {
    "papermill": {
     "duration": 0.047985,
     "end_time": "2021-12-05T01:47:26.349576",
     "exception": false,
     "start_time": "2021-12-05T01:47:26.301591",
     "status": "completed"
    },
    "tags": []
   },
   "source": [
    "# Hyperparameters tuning for AdaBoostClassifier"
   ]
  },
  {
   "cell_type": "code",
   "execution_count": 19,
   "id": "c4eff7be",
   "metadata": {
    "execution": {
     "iopub.execute_input": "2021-12-05T01:47:26.421926Z",
     "iopub.status.busy": "2021-12-05T01:47:26.421204Z",
     "iopub.status.idle": "2021-12-05T01:47:26.428815Z",
     "shell.execute_reply": "2021-12-05T01:47:26.429312Z",
     "shell.execute_reply.started": "2021-12-05T01:46:31.995985Z"
    },
    "papermill": {
     "duration": 0.047216,
     "end_time": "2021-12-05T01:47:26.429480",
     "exception": false,
     "start_time": "2021-12-05T01:47:26.382264",
     "status": "completed"
    },
    "tags": []
   },
   "outputs": [
    {
     "data": {
      "text/plain": [
       "{'memory': None,\n",
       " 'steps': [('knnimputer', KNNImputer()),\n",
       "  ('adaboostclassifier', AdaBoostClassifier(random_state=1))],\n",
       " 'verbose': False,\n",
       " 'knnimputer': KNNImputer(),\n",
       " 'adaboostclassifier': AdaBoostClassifier(random_state=1),\n",
       " 'knnimputer__add_indicator': False,\n",
       " 'knnimputer__copy': True,\n",
       " 'knnimputer__metric': 'nan_euclidean',\n",
       " 'knnimputer__missing_values': nan,\n",
       " 'knnimputer__n_neighbors': 5,\n",
       " 'knnimputer__weights': 'uniform',\n",
       " 'adaboostclassifier__algorithm': 'SAMME.R',\n",
       " 'adaboostclassifier__base_estimator': None,\n",
       " 'adaboostclassifier__learning_rate': 1.0,\n",
       " 'adaboostclassifier__n_estimators': 50,\n",
       " 'adaboostclassifier__random_state': 1}"
      ]
     },
     "execution_count": 19,
     "metadata": {},
     "output_type": "execute_result"
    }
   ],
   "source": [
    "pipe = make_pipeline(KNNImputer(), AdaBoostClassifier(random_state = 1))\n",
    "pipe.get_params()"
   ]
  },
  {
   "cell_type": "code",
   "execution_count": 20,
   "id": "e81d209d",
   "metadata": {
    "execution": {
     "iopub.execute_input": "2021-12-05T01:47:26.505157Z",
     "iopub.status.busy": "2021-12-05T01:47:26.504405Z",
     "iopub.status.idle": "2021-12-05T01:48:27.567498Z",
     "shell.execute_reply": "2021-12-05T01:48:27.568037Z"
    },
    "papermill": {
     "duration": 61.105868,
     "end_time": "2021-12-05T01:48:27.568212",
     "exception": false,
     "start_time": "2021-12-05T01:47:26.462344",
     "status": "completed"
    },
    "tags": []
   },
   "outputs": [
    {
     "data": {
      "text/plain": [
       "RandomizedSearchCV(estimator=Pipeline(steps=[('knnimputer', KNNImputer()),\n",
       "                                             ('adaboostclassifier',\n",
       "                                              AdaBoostClassifier(random_state=1))]),\n",
       "                   param_distributions={'adaboostclassifier__learning_rate': [0.01,\n",
       "                                                                              0.05,\n",
       "                                                                              0.1,\n",
       "                                                                              0.3],\n",
       "                                        'adaboostclassifier__n_estimators': [100,\n",
       "                                                                             500,\n",
       "                                                                             1000],\n",
       "                                        'knnimputer__n_neighbors': [5, 11, 15]})"
      ]
     },
     "execution_count": 20,
     "metadata": {},
     "output_type": "execute_result"
    }
   ],
   "source": [
    "from sklearn.model_selection import GridSearchCV, RandomizedSearchCV\n",
    "\n",
    "parameters = {\n",
    "    'knnimputer__n_neighbors': [5, 11, 15],\n",
    "    'adaboostclassifier__n_estimators': [100, 500, 1000],\n",
    "    'adaboostclassifier__learning_rate': [0.01, 0.05, 0.1, 0.3]\n",
    "}\n",
    "\n",
    "pipe = make_pipeline(KNNImputer(), AdaBoostClassifier(random_state = 1))\n",
    "clf = RandomizedSearchCV(estimator=pipe, param_distributions = parameters)\n",
    "clf.fit(X_train, y_train)"
   ]
  },
  {
   "cell_type": "code",
   "execution_count": 21,
   "id": "cb3ac3a3",
   "metadata": {
    "execution": {
     "iopub.execute_input": "2021-12-05T01:48:27.642937Z",
     "iopub.status.busy": "2021-12-05T01:48:27.642130Z",
     "iopub.status.idle": "2021-12-05T01:48:27.645960Z",
     "shell.execute_reply": "2021-12-05T01:48:27.645344Z"
    },
    "papermill": {
     "duration": 0.043608,
     "end_time": "2021-12-05T01:48:27.646144",
     "exception": false,
     "start_time": "2021-12-05T01:48:27.602536",
     "status": "completed"
    },
    "tags": []
   },
   "outputs": [
    {
     "data": {
      "text/plain": [
       "{'knnimputer__n_neighbors': 5,\n",
       " 'adaboostclassifier__n_estimators': 1000,\n",
       " 'adaboostclassifier__learning_rate': 0.3}"
      ]
     },
     "execution_count": 21,
     "metadata": {},
     "output_type": "execute_result"
    }
   ],
   "source": [
    "clf.best_params_"
   ]
  },
  {
   "cell_type": "code",
   "execution_count": 22,
   "id": "93457807",
   "metadata": {
    "execution": {
     "iopub.execute_input": "2021-12-05T01:48:27.722537Z",
     "iopub.status.busy": "2021-12-05T01:48:27.721754Z",
     "iopub.status.idle": "2021-12-05T01:48:39.273196Z",
     "shell.execute_reply": "2021-12-05T01:48:39.273710Z",
     "shell.execute_reply.started": "2021-12-04T11:16:44.538522Z"
    },
    "papermill": {
     "duration": 11.593745,
     "end_time": "2021-12-05T01:48:39.273904",
     "exception": false,
     "start_time": "2021-12-05T01:48:27.680159",
     "status": "completed"
    },
    "tags": []
   },
   "outputs": [
    {
     "data": {
      "text/plain": [
       "0.8260686711443098"
      ]
     },
     "execution_count": 22,
     "metadata": {},
     "output_type": "execute_result"
    }
   ],
   "source": [
    "adb = AdaBoostClassifier(learning_rate=0.3, n_estimators = 1000)\n",
    "pipe = make_pipeline(KNNImputer(n_neighbors=11), adb)\n",
    "cross_val_score(pipe, X_train, y_train, cv = 5, scoring = 'accuracy').mean()"
   ]
  },
  {
   "cell_type": "code",
   "execution_count": 23,
   "id": "a7e84f78",
   "metadata": {
    "execution": {
     "iopub.execute_input": "2021-12-05T01:48:39.354146Z",
     "iopub.status.busy": "2021-12-05T01:48:39.346803Z",
     "iopub.status.idle": "2021-12-05T01:48:41.779047Z",
     "shell.execute_reply": "2021-12-05T01:48:41.779597Z",
     "shell.execute_reply.started": "2021-12-04T11:17:03.293002Z"
    },
    "papermill": {
     "duration": 2.471245,
     "end_time": "2021-12-05T01:48:41.779788",
     "exception": false,
     "start_time": "2021-12-05T01:48:39.308543",
     "status": "completed"
    },
    "tags": []
   },
   "outputs": [],
   "source": [
    "pipe.fit(X_train, y_train)\n",
    "pred = pipe.predict(X_test)"
   ]
  },
  {
   "cell_type": "code",
   "execution_count": 24,
   "id": "ceb94a74",
   "metadata": {
    "execution": {
     "iopub.execute_input": "2021-12-05T01:48:41.855861Z",
     "iopub.status.busy": "2021-12-05T01:48:41.853526Z",
     "iopub.status.idle": "2021-12-05T01:48:41.862069Z",
     "shell.execute_reply": "2021-12-05T01:48:41.861515Z",
     "shell.execute_reply.started": "2021-12-04T11:17:06.687692Z"
    },
    "papermill": {
     "duration": 0.048582,
     "end_time": "2021-12-05T01:48:41.862221",
     "exception": false,
     "start_time": "2021-12-05T01:48:41.813639",
     "status": "completed"
    },
    "tags": []
   },
   "outputs": [
    {
     "data": {
      "text/html": [
       "<div>\n",
       "<style scoped>\n",
       "    .dataframe tbody tr th:only-of-type {\n",
       "        vertical-align: middle;\n",
       "    }\n",
       "\n",
       "    .dataframe tbody tr th {\n",
       "        vertical-align: top;\n",
       "    }\n",
       "\n",
       "    .dataframe thead th {\n",
       "        text-align: right;\n",
       "    }\n",
       "</style>\n",
       "<table border=\"1\" class=\"dataframe\">\n",
       "  <thead>\n",
       "    <tr style=\"text-align: right;\">\n",
       "      <th></th>\n",
       "      <th>PassengerId</th>\n",
       "      <th>Survived</th>\n",
       "    </tr>\n",
       "  </thead>\n",
       "  <tbody>\n",
       "    <tr>\n",
       "      <th>0</th>\n",
       "      <td>892</td>\n",
       "      <td>0</td>\n",
       "    </tr>\n",
       "    <tr>\n",
       "      <th>1</th>\n",
       "      <td>893</td>\n",
       "      <td>1</td>\n",
       "    </tr>\n",
       "    <tr>\n",
       "      <th>2</th>\n",
       "      <td>894</td>\n",
       "      <td>0</td>\n",
       "    </tr>\n",
       "    <tr>\n",
       "      <th>3</th>\n",
       "      <td>895</td>\n",
       "      <td>0</td>\n",
       "    </tr>\n",
       "    <tr>\n",
       "      <th>4</th>\n",
       "      <td>896</td>\n",
       "      <td>1</td>\n",
       "    </tr>\n",
       "    <tr>\n",
       "      <th>...</th>\n",
       "      <td>...</td>\n",
       "      <td>...</td>\n",
       "    </tr>\n",
       "    <tr>\n",
       "      <th>413</th>\n",
       "      <td>1305</td>\n",
       "      <td>0</td>\n",
       "    </tr>\n",
       "    <tr>\n",
       "      <th>414</th>\n",
       "      <td>1306</td>\n",
       "      <td>1</td>\n",
       "    </tr>\n",
       "    <tr>\n",
       "      <th>415</th>\n",
       "      <td>1307</td>\n",
       "      <td>0</td>\n",
       "    </tr>\n",
       "    <tr>\n",
       "      <th>416</th>\n",
       "      <td>1308</td>\n",
       "      <td>0</td>\n",
       "    </tr>\n",
       "    <tr>\n",
       "      <th>417</th>\n",
       "      <td>1309</td>\n",
       "      <td>1</td>\n",
       "    </tr>\n",
       "  </tbody>\n",
       "</table>\n",
       "<p>418 rows × 2 columns</p>\n",
       "</div>"
      ],
      "text/plain": [
       "     PassengerId  Survived\n",
       "0            892         0\n",
       "1            893         1\n",
       "2            894         0\n",
       "3            895         0\n",
       "4            896         1\n",
       "..           ...       ...\n",
       "413         1305         0\n",
       "414         1306         1\n",
       "415         1307         0\n",
       "416         1308         0\n",
       "417         1309         1\n",
       "\n",
       "[418 rows x 2 columns]"
      ]
     },
     "execution_count": 24,
     "metadata": {},
     "output_type": "execute_result"
    }
   ],
   "source": [
    "results = pd.DataFrame({'PassengerId': test['PassengerId'], 'Survived': pred.astype('int')})\n",
    "results"
   ]
  },
  {
   "cell_type": "code",
   "execution_count": 25,
   "id": "805a2ad3",
   "metadata": {
    "execution": {
     "iopub.execute_input": "2021-12-05T01:48:41.937611Z",
     "iopub.status.busy": "2021-12-05T01:48:41.936913Z",
     "iopub.status.idle": "2021-12-05T01:48:41.942583Z",
     "shell.execute_reply": "2021-12-05T01:48:41.943226Z",
     "shell.execute_reply.started": "2021-12-04T11:17:08.622187Z"
    },
    "papermill": {
     "duration": 0.04543,
     "end_time": "2021-12-05T01:48:41.943407",
     "exception": false,
     "start_time": "2021-12-05T01:48:41.897977",
     "status": "completed"
    },
    "tags": []
   },
   "outputs": [],
   "source": [
    "results.to_csv('results.csv', index=False)"
   ]
  }
 ],
 "metadata": {
  "kernelspec": {
   "display_name": "Python 3",
   "language": "python",
   "name": "python3"
  },
  "language_info": {
   "codemirror_mode": {
    "name": "ipython",
    "version": 3
   },
   "file_extension": ".py",
   "mimetype": "text/x-python",
   "name": "python",
   "nbconvert_exporter": "python",
   "pygments_lexer": "ipython3",
   "version": "3.7.12"
  },
  "papermill": {
   "default_parameters": {},
   "duration": 96.983759,
   "end_time": "2021-12-05T01:48:42.689457",
   "environment_variables": {},
   "exception": null,
   "input_path": "__notebook__.ipynb",
   "output_path": "__notebook__.ipynb",
   "parameters": {},
   "start_time": "2021-12-05T01:47:05.705698",
   "version": "2.3.3"
  }
 },
 "nbformat": 4,
 "nbformat_minor": 5
}
